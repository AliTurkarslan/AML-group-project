# Import required libraries
import torch
from sklearn.metrics import accuracy_score, precision_score, recall_score, f1_score, confusion_matrix
import seaborn as sns
import matplotlib.pyplot as plt

from scripts.dataset import create_graph_dataset
from models.gnn_model import GAT

# Load graph dataset
data_path = "data/processed/balanced.csv"  # Evaluation on balanced data
data = create_graph_dataset(data_path)

# Load model
device = torch.device("cuda" if torch.cuda.is_available() else "cpu")
model = GAT(in_channels=data.num_features, hidden_channels=16, out_channels=1, heads=8).to(device)
model.load_state_dict(torch.load("models/trained_model.pth"))
model.eval()

# Test loader
from torch_geometric.loader import NeighborLoader
test_loader = NeighborLoader(data, batch_size=128, input_nodes=data.test_mask)

# Evaluate model
y_true = []
y_pred = []
with torch.no_grad():
    for batch in test_loader:
        batch = batch.to(device)
        pred = model(batch.x, batch.edge_index, batch.edge_attr)
        pred = (pred > 0.5).float().cpu().numpy()
        y_true.extend(batch.y.cpu().numpy())
        y_pred.extend(pred)

# Metrics calculation
accuracy = accuracy_score(y_true, y_pred)
precision = precision_score(y_true, y_pred)
recall = recall_score(y_true, y_pred)
f1 = f1_score(y_true, y_pred)

print(f"Accuracy: {accuracy:.4f}")
print(f"Precision: {precision:.4f}")
print(f"Recall: {recall:.4f}")
print(f"F1 Score: {f1:.4f}")

# Confusion matrix
conf_matrix = confusion_matrix(y_true, y_pred)
plt.figure(figsize=(6, 6))
sns.heatmap(conf_matrix, annot=True, fmt="d", cmap="Blues", xticklabels=["Not Laundering", "Laundering"], yticklabels=["Not Laundering", "Laundering"])
plt.title("Confusion Matrix")
plt.xlabel("Predicted")
plt.ylabel("Actual")
plt.show()

# Save metrics
import json
metrics = {
    "accuracy": accuracy,
    "precision": precision,
    "recall": recall,
    "f1_score": f1
}
with open("results/metrics.json", "w") as f:
    json.dump(metrics, f)
print("Metrics saved to results/metrics.json")
